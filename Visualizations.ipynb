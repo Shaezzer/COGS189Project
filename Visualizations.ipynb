{
 "cells": [
  {
   "cell_type": "markdown",
   "metadata": {},
   "source": [
    "Visualizations\n",
    "\n",
    "Logistic Regression, LDA, Decision Tree\n",
    "\n",
    "\n",
    "Each subject has 6 AuC values per test\n",
    "\n",
    "12 Subjects\n",
    "\n",
    "6 Events\n",
    "\n",
    "3 Algorithms\n",
    "\n",
    "Types of Graphs "
   ]
  },
  {
   "cell_type": "code",
   "execution_count": 1,
   "metadata": {},
   "outputs": [],
   "source": [
    "import matplotlib.pyplot as plt\n",
    "import numpy as np\n",
    "import pandas as pd\n",
    "import patsy\n",
    "import statsmodels.api as sm\n",
    "import scipy.stats as stats\n",
    "from scipy.stats import ttest_ind, chisquare, normaltest"
   ]
  },
  {
   "cell_type": "code",
   "execution_count": 39,
   "metadata": {},
   "outputs": [],
   "source": [
    "\n",
    "#loading in our shit\n",
    "df_prabesh = pd.read_csv('Prabesh_results_Decision_Tree.csv')\n",
    "df_mina = pd.read_csv('Mina_results.csv')\n",
    "df_shae = pd.read_csv('Shae_Results_knearest.csv')\n",
    "\n",
    "#concating all our shit\n",
    "dfs = [df_prabesh, df_mina, df_shae]\n",
    "df_all = pd.concat(dfs)\n",
    "#renaming columns\n",
    "df_all.columns = [\"a\",\"Subject\",\"Classifier\", \"AUC_Score\"]\n",
    "#dropping extra column\n",
    "df_all.drop(['a'], axis=1, inplace = True)\n",
    "\n",
    "\n",
    "\n",
    "#AUC cell was a string which needed to be a list of floats instead\n",
    "def AUC_Formatting(cell):\n",
    "    #remove certain characters from string\n",
    "    cell = cell.replace('[', '')\n",
    "    cell = cell.replace(']', '')\n",
    "    #create new list\n",
    "    list_a = []\n",
    "    #split string by commas and create list from values\n",
    "    for i in cell.split(','):\n",
    "        i = float(i)\n",
    "        list_a.append(i)\n",
    "    return(list_a)\n",
    "\n",
    "df_all[\"AUC_Score\"] = df_all[\"AUC_Score\"].apply(AUC_Formatting)    \n",
    "    \n",
    "df_all[['Event1','Event2','Event3','Event4','Event5','Event6']] = pd.DataFrame(df_all.AUC_Score.values.tolist(), index= df_all.index)    \n",
    "\n",
    "#df_decision = df_all.copy()\n",
    "#df_LR = df_all.copy()\n",
    "#df_LDA = df_all.copy()\n",
    "\n",
    "#Too lazy to find an easier way to do this but creating dataframes for each of the algorithms\n",
    "a = ['LDA', \"Logistic Regression\",'K-nearest Neighbors']\n",
    "df_decision = df_all[~df_all['Classifier'].isin(a)]\n",
    "b = ['LDA', \"Decision Tree\",'K-nearest Neighbors']\n",
    "df_LR = df_all[~df_all['Classifier'].isin(b)]\n",
    "c = ['Decision Tree', \"Logistic Regression\",'K-nearest Neighbors']\n",
    "df_LDA = df_all[~df_all['Classifier'].isin(c)]\n",
    "d = ['Decision Tree', \"Logistic Regression\",'LDA']\n",
    "df_k = df_all[~df_all['Classifier'].isin(d)]\n",
    "\n",
    "\n"
   ]
  },
  {
   "cell_type": "code",
   "execution_count": 74,
   "metadata": {},
   "outputs": [
    {
     "data": {
      "text/plain": [
       "<matplotlib.legend.Legend at 0x2be77e9d148>"
      ]
     },
     "execution_count": 74,
     "metadata": {},
     "output_type": "execute_result"
    },
    {
     "data": {
      "image/png": "[encoded data removed]",
      "text/plain": [
       "<Figure size 432x288 with 1 Axes>"
      ]
     },
     "metadata": {
      "needs_background": "light"
     },
     "output_type": "display_data"
    }
   ],
   "source": [
    "#Actually Graphing stuff\n",
    "events = ['Event1','Event2','Event3','Event4','Event5','Event6']\n",
    "\n",
    "#Calculating means of all of the methods\n",
    "\n",
    "#Decision Tree\n",
    "mean_decision = []\n",
    "for event in events:\n",
    "    event = df_decision[event].mean()\n",
    "    mean_decision.append(event)\n",
    "    \n",
    "#Logistic Regression\n",
    "mean_LR = []\n",
    "for event in events:\n",
    "    event = df_LR[event].mean()\n",
    "    mean_LR.append(event)\n",
    "\n",
    "#LDA\n",
    "mean_LDA = []\n",
    "for event in events:\n",
    "    event = df_LDA[event].mean()\n",
    "    mean_LDA.append(event)\n",
    "\n",
    "#K-nearest\n",
    "mean_k = []\n",
    "for event in events:\n",
    "    event = df_k[event].mean()\n",
    "    mean_k.append(event)\n",
    "\n",
    "means = [mean_decision, mean_k, mean_LR, mean_LDA] \n",
    "#classifiers = ['Decision Tree', 'K-Nearest', 'Logistic Regression', 'LDA']\n",
    "\n",
    "#creating dataframe of all of the means\n",
    "    \n",
    "df_all_means = pd.DataFrame(means, index =['Decision Tree', 'K-Nearest', 'Logistic Regression', 'LDA'], \n",
    "                                              columns =['Event1','Event2','Event3','Event4','Event5','Event6'])\n",
    "#df_all_means['Classifier'] = classifiers\n",
    "#df_all_means.plot()\n",
    "#df_all_means.plot(['Event1','Event2','Event3','Event4','Event5','Event6'],'Classifier',kind = 'line')\n",
    "df_all_means_T = df_all_means.T\n",
    "df_all_means_T.plot()\n",
    "plt.legend(loc='center left', bbox_to_anchor=(1.0, 0.5))\n",
    "#df_all_means_T\n"
   ]
  },
  {
   "cell_type": "code",
   "execution_count": 62,
   "metadata": {},
   "outputs": [
    {
     "data": {
      "text/html": [
       "<div>\n",
       "<style scoped>\n",
       "    .dataframe tbody tr th:only-of-type {\n",
       "        vertical-align: middle;\n",
       "    }\n",
       "\n",
       "    .dataframe tbody tr th {\n",
       "        vertical-align: top;\n",
       "    }\n",
       "\n",
       "    .dataframe thead th {\n",
       "        text-align: right;\n",
       "    }\n",
       "</style>\n",
       "<table border=\"1\" class=\"dataframe\">\n",
       "  <thead>\n",
       "    <tr style=\"text-align: right;\">\n",
       "      <th></th>\n",
       "      <th>Event1</th>\n",
       "      <th>Event2</th>\n",
       "      <th>Event3</th>\n",
       "      <th>Event4</th>\n",
       "      <th>Event5</th>\n",
       "      <th>Event6</th>\n",
       "    </tr>\n",
       "  </thead>\n",
       "  <tbody>\n",
       "    <tr>\n",
       "      <td>Decision Tree</td>\n",
       "      <td>0.638635</td>\n",
       "      <td>0.617162</td>\n",
       "      <td>0.627826</td>\n",
       "      <td>0.627172</td>\n",
       "      <td>0.658919</td>\n",
       "      <td>0.628948</td>\n",
       "    </tr>\n",
       "    <tr>\n",
       "      <td>K-Nearest</td>\n",
       "      <td>0.572431</td>\n",
       "      <td>0.552945</td>\n",
       "      <td>0.547964</td>\n",
       "      <td>0.564507</td>\n",
       "      <td>0.566777</td>\n",
       "      <td>0.554066</td>\n",
       "    </tr>\n",
       "    <tr>\n",
       "      <td>Logistic Regression</td>\n",
       "      <td>0.724681</td>\n",
       "      <td>0.697568</td>\n",
       "      <td>0.688406</td>\n",
       "      <td>0.719219</td>\n",
       "      <td>0.719194</td>\n",
       "      <td>0.703894</td>\n",
       "    </tr>\n",
       "    <tr>\n",
       "      <td>LDA</td>\n",
       "      <td>0.718225</td>\n",
       "      <td>0.691300</td>\n",
       "      <td>0.682613</td>\n",
       "      <td>0.718769</td>\n",
       "      <td>0.710082</td>\n",
       "      <td>0.705928</td>\n",
       "    </tr>\n",
       "  </tbody>\n",
       "</table>\n",
       "</div>"
      ],
      "text/plain": [
       "                       Event1    Event2    Event3    Event4    Event5  \\\n",
       "Decision Tree        0.638635  0.617162  0.627826  0.627172  0.658919   \n",
       "K-Nearest            0.572431  0.552945  0.547964  0.564507  0.566777   \n",
       "Logistic Regression  0.724681  0.697568  0.688406  0.719219  0.719194   \n",
       "LDA                  0.718225  0.691300  0.682613  0.718769  0.710082   \n",
       "\n",
       "                       Event6  \n",
       "Decision Tree        0.628948  \n",
       "K-Nearest            0.554066  \n",
       "Logistic Regression  0.703894  \n",
       "LDA                  0.705928  "
      ]
     },
     "execution_count": 62,
     "metadata": {},
     "output_type": "execute_result"
    }
   ],
   "source": [
    "#fig=pd.plotting.scatter_matrix(df_all_means)\n",
    "df_all_means"
   ]
  },
  {
   "cell_type": "code",
   "execution_count": null,
   "metadata": {},
   "outputs": [],
   "source": []
  }
 ],
 "metadata": {
  "kernelspec": {
   "display_name": "Python 3",
   "language": "python",
   "name": "python3"
  },
  "language_info": {
   "codemirror_mode": {
    "name": "ipython",
    "version": 3
   },
   "file_extension": ".py",
   "mimetype": "text/x-python",
   "name": "python",
   "nbconvert_exporter": "python",
   "pygments_lexer": "ipython3",
   "version": "3.7.4"
  }
 },
 "nbformat": 4,
 "nbformat_minor": 2
}
